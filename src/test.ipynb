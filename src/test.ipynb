{
 "cells": [
  {
   "cell_type": "code",
   "execution_count": 5,
   "id": "c5949420",
   "metadata": {},
   "outputs": [
    {
     "name": "stdout",
     "output_type": "stream",
     "text": [
      "(60, 32, 8)\n"
     ]
    }
   ],
   "source": [
    "import numpy as np\n",
    "import pywt  # Import pywt for CWT\n",
    "\n",
    "\n",
    "\n",
    "input = np.random.randn(60,8)\n",
    "\n",
    "def compute_cwt(signal):\n",
    "        \"\"\"Computes CWT on the fly.\"\"\"\n",
    "        # Ensure the signal is 2D (channels x time)\n",
    "        if signal.ndim == 1:\n",
    "            signal = signal.reshape(1, -1)  # Add a channel dimension if it's 1D\n",
    "\n",
    "        num_channels = signal.shape[0]\n",
    "        all_channel_coefs = []\n",
    "\n",
    "        for i in range(num_channels):\n",
    "            coef, _ = pywt.cwt(signal[i], np.arange(1, 32 + 1), 'morl')\n",
    "            all_channel_coefs.append(coef)\n",
    "\n",
    "        stacked_coefs = np.stack(all_channel_coefs, axis=0)  # Shape: (num_channels, scales, time)\n",
    "        return stacked_coefs\n",
    "\n",
    "cwt = compute_cwt(input)\n",
    "print(cwt.shape)"
   ]
  },
  {
   "cell_type": "code",
   "execution_count": null,
   "id": "7e168d5c",
   "metadata": {},
   "outputs": [],
   "source": [
    "from build_hdf5 import parse_filename\n",
    "\n",
    "file = '/home/pantelis/Documents/SeNic/preprocessed_data/h2/2/emg_p0_r0_pinch_middlefinger.npz'\n",
    "\n",
    "print(parse_filename(file))"
   ]
  }
 ],
 "metadata": {
  "kernelspec": {
   "display_name": ".venv",
   "language": "python",
   "name": "python3"
  },
  "language_info": {
   "codemirror_mode": {
    "name": "ipython",
    "version": 3
   },
   "file_extension": ".py",
   "mimetype": "text/x-python",
   "name": "python",
   "nbconvert_exporter": "python",
   "pygments_lexer": "ipython3",
   "version": "3.11.9"
  }
 },
 "nbformat": 4,
 "nbformat_minor": 5
}
